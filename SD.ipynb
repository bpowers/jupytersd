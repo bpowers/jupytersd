{
 "cells": [
  {
   "cell_type": "code",
   "execution_count": 1,
   "metadata": {},
   "outputs": [],
   "source": [
    "import pysd"
   ]
  },
  {
   "cell_type": "code",
   "execution_count": 2,
   "metadata": {},
   "outputs": [],
   "source": [
    "import jupytersd"
   ]
  },
  {
   "cell_type": "code",
   "execution_count": 3,
   "metadata": {},
   "outputs": [],
   "source": [
    "with open('Lotka_Volterra.mdl') as file:\n",
    "    model_src = file.read()"
   ]
  },
  {
   "cell_type": "code",
   "execution_count": 4,
   "metadata": {},
   "outputs": [
    {
     "data": {
      "application/vnd.simlin.widget-view+json": {
       "project_id": "Lotka_Volterra.mdl",
       "project_source": "{UTF-8}\nFractional Predation Rate=\n\tReference Fractional Predation Rate * Predators / Reference Predators\n\t~\tHares/(Year*Hare)\n\t~\tIncreases Linearly with Number of Predators\n\t|\n\nInitial Predator Population=\n\t20\n\t~\t\n\t~\t\t|\n\nInitial Prey Population=\n\t1000\n\t~\t\n\t~\t\t|\n\nPredator Births=\n\tPredators * Predator Reproduction Ratio\n\t~\tFoxes/Year\n\t~\t\t|\n\nPredator Deaths=\n\tPredators / Predator Lifespan\n\t~\tFoxes/Year\n\t~\t\t|\n\nPredator Lifespan=\n\t10\n\t~\tYears [10,?]\n\t~\t\t|\n\nPredator Reproduction Ratio=\n\tReference Predator Reproduction Ratio * Prey / Reference Prey Population\n\t~\tFoxes/Fox/Year [0,?]\n\t~\tIncreases linearly with prey availability\n\t|\n\nPredators= INTEG (\n\tPredator Births-Predator Deaths,\n\t\tInitial Predator Population)\n\t~\tFoxes [0,?]\n\t~\t\t|\n\nPrey= INTEG (\n\tPrey Births-Prey Deaths,\n\t\tInitial Prey Population)\n\t~\tHares [0,?]\n\t~\t\t|\n\nPrey Births=\n\tPrey * Prey Reproduction Ratio\n\t~\tHares/Year [0,?]\n\t~\t\t|\n\nPrey Deaths=\n\tPrey * Fractional Predation Rate\n\t~\tHares/Year [0,?]\n\t~\t\t|\n\nPrey Reproduction Ratio=\n\t3\n\t~\tHares/Hare/Year\n\t~\t\t|\n\nReference Fractional Predation Rate=\n\t0.2\n\t~\tHares/(Year*Hare) [0,?]\n\t~\t\t|\n\nReference Predator Reproduction Ratio=\n\t1\n\t~\t\n\t~\t\t|\n\nReference Predators=\n\t20\n\t~\t\n\t~\t\t|\n\nReference Prey Population=\n\t1000\n\t~\t\n\t~\t\t|\n\n********************************************************\n\t.Control\n********************************************************~\n\t\tSimulation Control Parameters\n\t|\n\nFINAL TIME  = 50\n\t~\tYear\n\t~\tThe final time for the simulation.\n\t|\n\nINITIAL TIME  = 0\n\t~\tYear\n\t~\tThe initial time for the simulation.\n\t|\n\nSAVEPER  = \n        TIME STEP \n\t~\tYear [0,?]\n\t~\tThe frequency with which output is stored.\n\t|\n\nTIME STEP  = 0.0625\n\t~\tYear [0,?]\n\t~\tThe time step for the simulation.\n\t|\n\n\\\\\\---/// Sketch information - do not modify anything except names\nV300  Do not put anything below this section - it will be ignored\n*View 1\n$192-192-192,0,Times New Roman|12||0-0-0|0-0-0|0-0-255|-1--1--1|-1--1--1|72,72,100,0\n10,1,Predators,464,171,40,20,3,3,0,0,0,0,0,0\n10,2,Prey,466,342,40,20,3,3,0,0,0,0,0,0\n12,3,48,293,169,10,8,0,3,0,0,-1,0,0,0\n1,5,7,1,4,0,0,22,0,0,0,-1--1--1,,1|(396,169)|\n1,6,7,3,100,0,0,22,0,0,0,-1--1--1,,1|(330,169)|\n11,7,0,363,169,6,8,34,3,0,0,1,0,0,0\n10,8,Predator Births,363,185,39,8,40,3,0,0,-1,0,0,0\n12,9,48,649,175,10,8,0,3,0,0,-1,0,0,0\n1,11,13,9,4,0,0,22,0,0,0,-1--1--1,,1|(608,175)|\n1,12,13,1,100,0,0,22,0,0,0,-1--1--1,,1|(534,175)|\n11,13,0,571,175,6,8,34,3,0,0,1,0,0,0\n10,14,Predator Deaths,571,191,41,8,40,3,0,0,-1,0,0,0\n12,15,48,279,341,10,8,0,3,0,0,-1,0,0,0\n1,17,19,2,4,0,0,22,0,0,0,-1--1--1,,1|(394,341)|\n1,18,19,15,100,0,0,22,0,0,0,-1--1--1,,1|(320,341)|\n11,19,0,357,341,6,8,34,3,0,0,1,0,0,0\n10,20,Prey Births,357,357,29,8,40,3,0,0,-1,0,0,0\n12,21,48,646,345,10,8,0,3,0,0,-1,0,0,0\n1,23,25,21,4,0,0,22,0,0,0,-1--1--1,,1|(606,345)|\n1,24,25,2,100,0,0,22,0,0,0,-1--1--1,,1|(535,345)|\n11,25,0,571,345,6,8,34,3,0,0,1,0,0,0\n10,26,Prey Deaths,571,361,31,8,40,3,0,0,-1,0,0,0\n1,27,1,8,1,0,0,0,0,128,0,-1--1--1,,1|(416,213)|\n1,28,1,13,1,0,0,0,0,128,0,-1--1--1,,1|(526,142)|\n1,29,2,25,1,0,0,0,0,128,0,-1--1--1,,1|(532,313)|\n1,30,2,20,1,0,0,0,0,128,0,-1--1--1,,1|(399,381)|\n10,31,Prey Reproduction Ratio,329,412,48,14,8,3,0,0,0,0,0,0\n10,32,Predator Lifespan,613,127,45,8,8,3,0,0,0,0,0,0\n10,33,Fractional Predation Rate,548,261,39,14,8,3,0,0,0,0,0,0\n10,34,Predator Reproduction Ratio,346,263,50,14,8,3,0,0,0,0,0,0\n1,35,34,8,1,0,0,0,0,128,0,-1--1--1,,1|(338,229)|\n1,36,31,20,1,0,0,0,0,128,0,-1--1--1,,1|(332,382)|\n1,37,2,34,1,0,0,0,0,128,0,-1--1--1,,1|(370,294)|\n1,38,1,33,1,0,0,0,0,128,0,-1--1--1,,1|(512,208)|\n1,39,33,25,1,0,0,0,0,128,0,-1--1--1,,1|(564,289)|\n1,40,32,13,0,0,0,0,0,128,0,-1--1--1,,1|(594,147)|\n10,41,Initial Predator Population,460,106,39,14,8,3,0,0,0,0,0,0\n10,42,Initial Prey Population,463,415,57,8,8,3,0,0,0,0,0,0\n1,43,41,1,0,0,0,0,0,64,1,-1--1--1,,1|(460,128)|\n1,44,42,2,0,0,0,0,0,64,1,-1--1--1,,1|(463,391)|\n10,45,Reference Predator Reproduction Ratio,220,224,51,14,8,3,0,0,0,0,0,0\n10,46,Reference Prey Population,224,284,40,14,8,3,0,0,0,0,0,0\n10,47,Reference Fractional Predation Rate,668,293,54,14,8,3,0,0,0,0,0,0\n10,48,Reference Predators,663,226,51,8,8,3,0,0,0,0,0,0\n1,49,48,33,0,0,0,0,0,128,0,-1--1--1,,1|(618,239)|\n1,50,47,33,0,0,0,0,0,128,0,-1--1--1,,1|(608,276)|\n1,51,45,34,0,0,0,0,0,128,0,-1--1--1,,1|(275,241)|\n1,52,46,34,0,0,0,0,0,128,0,-1--1--1,,1|(273,275)|\n///---\\\\\\\n:L<%^E!@\n1:/Applications/Current.vdf\n9:Current\n22:$,Dollar,Dollars,$s\n22:Day,Days\n22:Hour,Hours\n22:Month,Months\n22:Person,People,Persons\n22:Unit,Units\n22:Week,Weeks\n22:Year,Years\n15:0,0,0,0,0,0\n19:100,0\n27:2,\n34:0,\n4:Time\n5:Initial Predator Population\n35:Date\n36:YYYY-MM-DD\n37:2000\n38:1\n39:1\n40:0\n41:0\n42:0\n24:0\n25:50\n26:50\n",
       "version_major": 1,
       "version_minor": 0
      },
      "author": "Bobby Powers <bobbypowers@gmail.com>",
      "bugs": {
       "url": "https://github.com/bpowers/jupytersd/issues"
      },
      "dependencies": {
       "@jupyterlab/application": "^3.0.0",
       "@jupyterlab/coreutils": "^5.0.0",
       "@jupyterlab/notebook": "^3.0.4",
       "@jupyterlab/services": "^6.0.0"
      },
      "description": "System Dynamics visual editor",
      "devDependencies": {
       "@jupyterlab/builder": "^3.0.0",
       "@typescript-eslint/eslint-plugin": "^2.27.0",
       "@typescript-eslint/parser": "^2.27.0",
       "eslint": "^7.5.0",
       "eslint-config-prettier": "^6.10.1",
       "eslint-plugin-prettier": "^3.1.2",
       "mkdirp": "^1.0.3",
       "npm-run-all": "^4.1.5",
       "prettier": "^1.19.0",
       "rimraf": "^3.0.2",
       "typescript": "~4.1.3"
      },
      "files": [
       "lib/**/*.{d.ts,eot,gif,html,jpg,js,js.map,json,png,svg,woff2,ttf}",
       "style/**/*.{css,.js,eot,gif,html,jpg,json,png,svg,woff2,ttf}"
      ],
      "homepage": "https://github.com/bpowers/jupytersd",
      "jupyterlab": {
       "_build": {
        "extension": "./extension",
        "load": "static/remoteEntry.3c593de4731acc062fb0.js",
        "style": "./style"
       },
       "discovery": {
        "server": {
         "base": {
          "name": "jupytersd"
         },
         "managers": [
          "pip"
         ]
        }
       },
       "extension": true,
       "outputDir": "jupytersd/labextension"
      },
      "keywords": [
       "jupyter",
       "jupyterlab",
       "jupyterlab-extension"
      ],
      "license": "BSD-3-Clause",
      "main": "lib/index.js",
      "name": "jupytersd",
      "repository": {
       "type": "git",
       "url": "https://github.com/bpowers/jupytersd.git"
      },
      "scripts": {
       "build": "jlpm run build:lib && jlpm run build:labextension:dev",
       "build:labextension": "jupyter labextension build .",
       "build:labextension:dev": "jupyter labextension build --development True .",
       "build:lib": "tsc",
       "build:prod": "jlpm run build:lib && jlpm run build:labextension",
       "clean": "jlpm run clean:lib",
       "clean:all": "jlpm run clean:lib && jlpm run clean:labextension",
       "clean:labextension": "rimraf jupytersd/labextension",
       "clean:lib": "rimraf lib tsconfig.tsbuildinfo",
       "eslint": "eslint . --ext .ts,.tsx --fix",
       "eslint:check": "eslint . --ext .ts,.tsx",
       "install:extension": "jupyter labextension develop --overwrite .",
       "prepare": "jlpm run clean && jlpm run build:prod",
       "watch": "run-p watch:src watch:labextension",
       "watch:labextension": "jupyter labextension watch .",
       "watch:src": "tsc -w"
      },
      "sideEffects": [
       "style/*.css",
       "style/index.js"
      ],
      "style": "style/index.css",
      "styleModule": "style/index.js",
      "text/plain": [
       "<jupytersd.ProjectWidget at 0x7f7ce018b250>"
      ],
      "types": "lib/index.d.ts",
      "version": "0.1.0"
     },
     "execution_count": 4,
     "metadata": {},
     "output_type": "execute_result"
    }
   ],
   "source": [
    "jupytersd.open_file('Lotka_Volterra.mdl')"
   ]
  },
  {
   "cell_type": "code",
   "execution_count": null,
   "metadata": {},
   "outputs": [],
   "source": []
  }
 ],
 "metadata": {
  "kernelspec": {
   "display_name": "Python 3",
   "language": "python",
   "name": "python3"
  },
  "language_info": {
   "codemirror_mode": {
    "name": "ipython",
    "version": 3
   },
   "file_extension": ".py",
   "mimetype": "text/x-python",
   "name": "python",
   "nbconvert_exporter": "python",
   "pygments_lexer": "ipython3",
   "version": "3.9.1"
  }
 },
 "nbformat": 4,
 "nbformat_minor": 4
}

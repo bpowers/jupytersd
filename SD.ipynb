{
 "cells": [
  {
   "cell_type": "code",
   "execution_count": 1,
   "metadata": {},
   "outputs": [],
   "source": [
    "import pysd"
   ]
  },
  {
   "cell_type": "code",
   "execution_count": 2,
   "metadata": {},
   "outputs": [],
   "source": [
    "import jupytersd"
   ]
  },
  {
   "cell_type": "code",
   "execution_count": 3,
   "metadata": {},
   "outputs": [],
   "source": [
    "with open('rabfox_birgit.simlin', 'rb') as file:\n",
    "    model_src = file.read()"
   ]
  },
  {
   "cell_type": "code",
   "execution_count": 4,
   "metadata": {},
   "outputs": [
    {
     "data": {
      "application/vnd.simlin.widget-view+json": {
       "project_id": "rabfox_birgit.simlin",
       "project_source": "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\n",
       "version_major": 1,
       "version_minor": 0
      },
      "author": "Bobby Powers <bobbypowers@gmail.com>",
      "bugs": {
       "url": "https://github.com/bpowers/jupytersd/issues"
      },
      "dependencies": {
       "@jupyterlab/application": "^3.0.0",
       "@jupyterlab/coreutils": "^5.0.0",
       "@jupyterlab/services": "^6.0.0",
       "@system-dynamics/diagram": "^1.1.9",
       "@system-dynamics/engine": "^1.1.5",
       "@system-dynamics/importer": "^1.1.4",
       "@system-dynamics/xmutil": "^1.1.1",
       "recharts": "^2.0.6"
      },
      "description": "System Dynamics visual editor",
      "devDependencies": {
       "@jupyterlab/builder": "^3.0.0",
       "@material-ui/icons": "^4.11.2",
       "@typescript-eslint/eslint-plugin": "^4.15.1",
       "@typescript-eslint/parser": "^4.15.1",
       "eslint": "^7.5.0",
       "eslint-config-prettier": "^7.2.0",
       "eslint-plugin-prettier": "^3.1.2",
       "mkdirp": "^1.0.3",
       "npm-run-all": "^4.1.5",
       "prettier": "^2.2.1",
       "rimraf": "^3.0.2",
       "typescript": "~4.1.3"
      },
      "files": [
       "lib/**/*.{d.ts,eot,gif,html,jpg,js,js.map,json,png,svg,woff2,ttf}",
       "style/**/*.{css,.js,eot,gif,html,jpg,json,png,svg,woff2,ttf}"
      ],
      "homepage": "https://github.com/bpowers/jupytersd",
      "jupyterlab": {
       "_build": {
        "extension": "./extension",
        "load": "static/remoteEntry.febefa8cbd4f753147cc.js",
        "style": "./style"
       },
       "discovery": {
        "server": {
         "base": {
          "name": "jupytersd"
         },
         "managers": [
          "pip"
         ]
        }
       },
       "extension": true,
       "outputDir": "jupytersd/labextension"
      },
      "keywords": [
       "jupyter",
       "jupyterlab",
       "jupyterlab-extension"
      ],
      "license": "BSD-3-Clause",
      "main": "lib/index.js",
      "name": "jupytersd",
      "repository": {
       "type": "git",
       "url": "https://github.com/bpowers/jupytersd.git"
      },
      "scripts": {
       "build": "jlpm run build:lib && jlpm run build:labextension:dev",
       "build:labextension": "jupyter labextension build .",
       "build:labextension:dev": "jupyter labextension build --development True .",
       "build:lib": "tsc",
       "build:prod": "jlpm run build:lib && jlpm run build:labextension",
       "clean": "jlpm run clean:lib",
       "clean:all": "jlpm run clean:lib && jlpm run clean:labextension",
       "clean:labextension": "rimraf jupytersd/labextension",
       "clean:lib": "rimraf lib tsconfig.tsbuildinfo",
       "eslint": "eslint . --ext .ts,.tsx --fix",
       "eslint:check": "eslint . --ext .ts,.tsx",
       "install:extension": "jupyter labextension develop --overwrite .",
       "prepare": "jlpm run clean && jlpm run build:prod",
       "watch": "run-p watch:src watch:labextension",
       "watch:labextension": "jupyter labextension watch .",
       "watch:src": "tsc -w"
      },
      "sideEffects": [
       "style/*.css",
       "style/index.js"
      ],
      "style": "style/index.css",
      "styleModule": "style/index.js",
      "text/plain": [
       "<jupytersd.ProjectWidget at 0x7f2e2c86ba60>"
      ],
      "types": "lib/index.d.ts",
      "version": "0.1.0"
     },
     "execution_count": 4,
     "metadata": {},
     "output_type": "execute_result"
    }
   ],
   "source": [
    "jupytersd.open_file('rabfox_birgit.simlin')"
   ]
  },
  {
   "cell_type": "code",
   "execution_count": null,
   "metadata": {},
   "outputs": [],
   "source": []
  }
 ],
 "metadata": {
  "kernelspec": {
   "display_name": "Python 3",
   "language": "python",
   "name": "python3"
  },
  "language_info": {
   "codemirror_mode": {
    "name": "ipython",
    "version": 3
   },
   "file_extension": ".py",
   "mimetype": "text/x-python",
   "name": "python",
   "nbconvert_exporter": "python",
   "pygments_lexer": "ipython3",
   "version": "3.9.1"
  }
 },
 "nbformat": 4,
 "nbformat_minor": 4
}

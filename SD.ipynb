{
 "cells": [
  {
   "cell_type": "code",
   "execution_count": 1,
   "metadata": {},
   "outputs": [],
   "source": [
    "import pysd"
   ]
  },
  {
   "cell_type": "code",
   "execution_count": 2,
   "metadata": {},
   "outputs": [],
   "source": [
    "import jupytersd"
   ]
  },
  {
   "cell_type": "code",
   "execution_count": 5,
   "metadata": {},
   "outputs": [],
   "source": [
    "with open('rabfox_birgit.simlin', 'rb') as file:\n",
    "    model_src = file.read()"
   ]
  },
  {
   "cell_type": "code",
   "execution_count": 6,
   "metadata": {},
   "outputs": [
    {
     "data": {
      "application/vnd.simlin.widget-view+json": {
       "project_id": "Lotka_Volterra.mdl",
       "project_source": "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\n",
       "version_major": 1,
       "version_minor": 0
      },
      "author": "Bobby Powers <bobbypowers@gmail.com>",
      "bugs": {
       "url": "https://github.com/bpowers/jupytersd/issues"
      },
      "dependencies": {
       "@jupyterlab/application": "^3.0.0",
       "@jupyterlab/coreutils": "^5.0.0",
       "@jupyterlab/services": "^6.0.0",
       "@system-dynamics/diagram": "^1.1.9",
       "@system-dynamics/engine": "^1.1.5",
       "@system-dynamics/importer": "^1.1.4",
       "@system-dynamics/xmutil": "^1.1.1",
       "recharts": "^2.0.6"
      },
      "description": "System Dynamics visual editor",
      "devDependencies": {
       "@jupyterlab/builder": "^3.0.0",
       "@material-ui/icons": "^4.11.2",
       "@typescript-eslint/eslint-plugin": "^4.15.1",
       "@typescript-eslint/parser": "^4.15.1",
       "eslint": "^7.5.0",
       "eslint-config-prettier": "^7.2.0",
       "eslint-plugin-prettier": "^3.1.2",
       "mkdirp": "^1.0.3",
       "npm-run-all": "^4.1.5",
       "prettier": "^2.2.1",
       "rimraf": "^3.0.2",
       "typescript": "~4.1.3"
      },
      "files": "lib/**/*.{d.ts,eot,gif,html,jpg,js,js.map,json,png,svg,woff2,ttf}style/**/*.{css,.js,eot,gif,html,jpg,json,png,svg,woff2,ttf}",
      "homepage": "https://github.com/bpowers/jupytersd",
      "jupyterlab": {
       "_build": {
        "extension": "./extension",
        "load": "static/remoteEntry.febefa8cbd4f753147cc.js",
        "style": "./style"
       },
       "discovery": {
        "server": {
         "base": {
          "name": "jupytersd"
         },
         "managers": [
          "pip"
         ]
        }
       },
       "extension": true,
       "outputDir": "jupytersd/labextension"
      },
      "keywords": "jupyterjupyterlabjupyterlab-extension",
      "license": "BSD-3-Clause",
      "main": "lib/index.js",
      "name": "jupytersd",
      "repository": {
       "type": "git",
       "url": "https://github.com/bpowers/jupytersd.git"
      },
      "scripts": {
       "build": "jlpm run build:lib && jlpm run build:labextension:dev",
       "build:labextension": "jupyter labextension build .",
       "build:labextension:dev": "jupyter labextension build --development True .",
       "build:lib": "tsc",
       "build:prod": "jlpm run build:lib && jlpm run build:labextension",
       "clean": "jlpm run clean:lib",
       "clean:all": "jlpm run clean:lib && jlpm run clean:labextension",
       "clean:labextension": "rimraf jupytersd/labextension",
       "clean:lib": "rimraf lib tsconfig.tsbuildinfo",
       "eslint": "eslint . --ext .ts,.tsx --fix",
       "eslint:check": "eslint . --ext .ts,.tsx",
       "install:extension": "jupyter labextension develop --overwrite .",
       "prepare": "jlpm run clean && jlpm run build:prod",
       "watch": "run-p watch:src watch:labextension",
       "watch:labextension": "jupyter labextension watch .",
       "watch:src": "tsc -w"
      },
      "sideEffects": "style/*.cssstyle/index.js",
      "style": "style/index.css",
      "styleModule": "style/index.js",
      "text/plain": [
       "<jupytersd.ProjectWidget at 0x7f4ab72849d0>"
      ],
      "types": "lib/index.d.ts",
      "version": "0.1.0"
     },
     "execution_count": 6,
     "metadata": {},
     "output_type": "execute_result"
    }
   ],
   "source": [
    "jupytersd.open_file('Lotka_Volterra.mdl')"
   ]
  },
  {
   "cell_type": "code",
   "execution_count": null,
   "metadata": {},
   "outputs": [],
   "source": []
  }
 ],
 "metadata": {
  "kernelspec": {
   "display_name": "Python 3",
   "language": "python",
   "name": "python3"
  },
  "language_info": {
   "codemirror_mode": {
    "name": "ipython",
    "version": 3
   },
   "file_extension": ".py",
   "mimetype": "text/x-python",
   "name": "python",
   "nbconvert_exporter": "python",
   "pygments_lexer": "ipython3",
   "version": "3.9.1"
  }
 },
 "nbformat": 4,
 "nbformat_minor": 4
}
